{
 "cells": [
  {
   "cell_type": "code",
   "execution_count": 1,
   "metadata": {},
   "outputs": [],
   "source": [
    "import pandas as pd\n",
    "import numpy as np\n",
    "import matplotlib.pyplot as plt\n",
    "%matplotlib inline"
   ]
  },
  {
   "cell_type": "code",
   "execution_count": 3,
   "metadata": {},
   "outputs": [
    {
     "data": {
      "text/html": [
       "<div>\n",
       "<style scoped>\n",
       "    .dataframe tbody tr th:only-of-type {\n",
       "        vertical-align: middle;\n",
       "    }\n",
       "\n",
       "    .dataframe tbody tr th {\n",
       "        vertical-align: top;\n",
       "    }\n",
       "\n",
       "    .dataframe thead th {\n",
       "        text-align: right;\n",
       "    }\n",
       "</style>\n",
       "<table border=\"1\" class=\"dataframe\">\n",
       "  <thead>\n",
       "    <tr style=\"text-align: right;\">\n",
       "      <th></th>\n",
       "      <th>scooter_id</th>\n",
       "      <th>xcoordinate</th>\n",
       "      <th>ycoordinate</th>\n",
       "      <th>power_level</th>\n",
       "    </tr>\n",
       "  </thead>\n",
       "  <tbody>\n",
       "    <tr>\n",
       "      <th>0</th>\n",
       "      <td>0</td>\n",
       "      <td>0.906835</td>\n",
       "      <td>0.776484</td>\n",
       "      <td>0</td>\n",
       "    </tr>\n",
       "    <tr>\n",
       "      <th>1</th>\n",
       "      <td>1</td>\n",
       "      <td>0.928587</td>\n",
       "      <td>0.804964</td>\n",
       "      <td>2</td>\n",
       "    </tr>\n",
       "    <tr>\n",
       "      <th>2</th>\n",
       "      <td>2</td>\n",
       "      <td>0.904091</td>\n",
       "      <td>0.784043</td>\n",
       "      <td>1</td>\n",
       "    </tr>\n",
       "  </tbody>\n",
       "</table>\n",
       "</div>"
      ],
      "text/plain": [
       "   scooter_id  xcoordinate  ycoordinate  power_level\n",
       "0           0     0.906835     0.776484            0\n",
       "1           1     0.928587     0.804964            2\n",
       "2           2     0.904091     0.784043            1"
      ]
     },
     "execution_count": 3,
     "metadata": {},
     "output_type": "execute_result"
    }
   ],
   "source": [
    "df = pd.read_csv('2019-XTern- Work Sample Assessment Data Science-DS.csv')\n",
    "df.head(3)"
   ]
  },
  {
   "cell_type": "code",
   "execution_count": 5,
   "metadata": {},
   "outputs": [
    {
     "name": "stdout",
     "output_type": "stream",
     "text": [
      "There are  25668 records and  4 features.\n"
     ]
    }
   ],
   "source": [
    "[x, y] = df.shape\n",
    "print('There are ', x, 'records and ', y, 'features.')"
   ]
  },
  {
   "cell_type": "code",
   "execution_count": 6,
   "metadata": {},
   "outputs": [],
   "source": [
    "xMax =  df.xcoordinate.max()\n",
    "xMin = df.xcoordinate.min()\n",
    "yMax = df.ycoordinate.max()\n",
    "yMin = df.ycoordinate.min()"
   ]
  },
  {
   "cell_type": "code",
   "execution_count": 7,
   "metadata": {},
   "outputs": [
    {
     "name": "stdout",
     "output_type": "stream",
     "text": [
      "X coord. placement ranges from  -0.300061531 to  1.3695174959999998\n",
      "Y coord. placement ranges from  -0.290196054 to  1.357176427\n"
     ]
    }
   ],
   "source": [
    "print('X coord. placement ranges from ', xMin, 'to ', xMax)\n",
    "print('Y coord. placement ranges from ', yMin, 'to ', yMax)"
   ]
  },
  {
   "cell_type": "markdown",
   "metadata": {},
   "source": [
    "An initial look at the data suggests the bus station isn't very close to any of the scooter locations"
   ]
  },
  {
   "cell_type": "markdown",
   "metadata": {},
   "source": [
    "##  Finding most popular scooter location:"
   ]
  },
  {
   "cell_type": "code",
   "execution_count": 29,
   "metadata": {},
   "outputs": [
    {
     "data": {
      "text/plain": [
       "<matplotlib.legend.Legend at 0x1acbe5ee1d0>"
      ]
     },
     "execution_count": 29,
     "metadata": {},
     "output_type": "execute_result"
    },
    {
     "data": {
      "image/png": "[encoded data removed]",
      "text/plain": [
       "<Figure size 432x288 with 1 Axes>"
      ]
     },
     "metadata": {
      "needs_background": "light"
     },
     "output_type": "display_data"
    }
   ],
   "source": [
    "plt.plot(df.scooter_id, df.xcoordinate, color = 'b',label='x-coord.')\n",
    "plt.plot(df.scooter_id, df.ycoordinate, color = 'r', label = 'y-coord.')\n",
    "plt.legend(loc = 'best')"
   ]
  },
  {
   "cell_type": "markdown",
   "metadata": {},
   "source": [
    "This graph indicates the scooters are left in geographical clusters. This could be useful in developing a charging strategy. It looks like there are 19 scooter 'hubs' overall. "
   ]
  },
  {
   "cell_type": "markdown",
   "metadata": {},
   "source": [
    "Additionally, this graph indicates the most popular scooter location is around 0.25 (X coordinate), 0.125 (Y coordinate). "
   ]
  },
  {
   "cell_type": "markdown",
   "metadata": {},
   "source": [
    "## Finding Operation Time Cost: "
   ]
  },
  {
   "cell_type": "code",
   "execution_count": 36,
   "metadata": {},
   "outputs": [
    {
     "data": {
      "text/plain": [
       "5    4388\n",
       "0    4343\n",
       "1    4284\n",
       "4    4248\n",
       "3    4245\n",
       "2    4160\n",
       "Name: power_level, dtype: int64"
      ]
     },
     "execution_count": 36,
     "metadata": {},
     "output_type": "execute_result"
    }
   ],
   "source": [
    "# I want to know the time to full charge for each of the scooters. Here's a vector with those values\n",
    "time_to_full = 5-df.power_level\n",
    "#Looking at the values\n",
    "time_to_full.value_counts()"
   ]
  },
  {
   "cell_type": "code",
   "execution_count": 38,
   "metadata": {},
   "outputs": [
    {
     "name": "stdout",
     "output_type": "stream",
     "text": [
      "2.503934860526726 hours\n"
     ]
    }
   ],
   "source": [
    "# The average time neede to charge, assuming one hour of charging = one power level gained\n",
    "print(time_to_full.mean(), 'hours')"
   ]
  },
  {
   "cell_type": "markdown",
   "metadata": {},
   "source": [
    "So, on average scooters require 2.5 hours before being fully charged. But as for total time..."
   ]
  },
  {
   "cell_type": "code",
   "execution_count": 35,
   "metadata": {},
   "outputs": [
    {
     "name": "stdout",
     "output_type": "stream",
     "text": [
      "64271 hours\n"
     ]
    }
   ],
   "source": [
    "#The total time to full charge of all scooters\n",
    "print(time_to_full.sum(),'hours')"
   ]
  },
  {
   "cell_type": "markdown",
   "metadata": {},
   "source": [
    "## Developing a Charging Strategy"
   ]
  },
  {
   "cell_type": "markdown",
   "metadata": {},
   "source": [
    "I'm interested in the distance of a scooter from the bus at it's initial station."
   ]
  },
  {
   "cell_type": "code",
   "execution_count": 19,
   "metadata": {},
   "outputs": [],
   "source": [
    "bus_x = 20.19\n",
    "bus_y = 20.19\n",
    "distance_from_station = np.sqrt((bus_x - df.xcoordinate)**2 + (bus_y - df.ycoordinate)**2)"
   ]
  },
  {
   "cell_type": "code",
   "execution_count": 21,
   "metadata": {},
   "outputs": [
    {
     "data": {
      "text/html": [
       "<div>\n",
       "<style scoped>\n",
       "    .dataframe tbody tr th:only-of-type {\n",
       "        vertical-align: middle;\n",
       "    }\n",
       "\n",
       "    .dataframe tbody tr th {\n",
       "        vertical-align: top;\n",
       "    }\n",
       "\n",
       "    .dataframe thead th {\n",
       "        text-align: right;\n",
       "    }\n",
       "</style>\n",
       "<table border=\"1\" class=\"dataframe\">\n",
       "  <thead>\n",
       "    <tr style=\"text-align: right;\">\n",
       "      <th></th>\n",
       "      <th>scooter_id</th>\n",
       "      <th>xcoordinate</th>\n",
       "      <th>ycoordinate</th>\n",
       "      <th>power_level</th>\n",
       "      <th>distance_from_station</th>\n",
       "    </tr>\n",
       "  </thead>\n",
       "  <tbody>\n",
       "    <tr>\n",
       "      <th>0</th>\n",
       "      <td>0</td>\n",
       "      <td>0.906835</td>\n",
       "      <td>0.776484</td>\n",
       "      <td>0</td>\n",
       "      <td>27.362841</td>\n",
       "    </tr>\n",
       "    <tr>\n",
       "      <th>1</th>\n",
       "      <td>1</td>\n",
       "      <td>0.928587</td>\n",
       "      <td>0.804964</td>\n",
       "      <td>2</td>\n",
       "      <td>27.327306</td>\n",
       "    </tr>\n",
       "    <tr>\n",
       "      <th>2</th>\n",
       "      <td>2</td>\n",
       "      <td>0.904091</td>\n",
       "      <td>0.784043</td>\n",
       "      <td>1</td>\n",
       "      <td>27.359412</td>\n",
       "    </tr>\n",
       "  </tbody>\n",
       "</table>\n",
       "</div>"
      ],
      "text/plain": [
       "   scooter_id  xcoordinate  ycoordinate  power_level  distance_from_station\n",
       "0           0     0.906835     0.776484            0              27.362841\n",
       "1           1     0.928587     0.804964            2              27.327306\n",
       "2           2     0.904091     0.784043            1              27.359412"
      ]
     },
     "execution_count": 21,
     "metadata": {},
     "output_type": "execute_result"
    }
   ],
   "source": [
    "#I will make this distance a new feature\n",
    "df['distance_from_station'] = distance_from_station\n",
    "df.head(3)"
   ]
  },
  {
   "cell_type": "code",
   "execution_count": 25,
   "metadata": {},
   "outputs": [
    {
     "name": "stdout",
     "output_type": "stream",
     "text": [
      "The average distance form the station is 27.897126182359216 miles\n"
     ]
    }
   ],
   "source": [
    "print('The average distance form the station is', df.distance_from_station.mean(), 'miles')"
   ]
  },
  {
   "cell_type": "code",
   "execution_count": 39,
   "metadata": {},
   "outputs": [
    {
     "name": "stdout",
     "output_type": "stream",
     "text": [
      "Max distance: 28.85182478901359  Min distance: 26.75700023626647\n"
     ]
    }
   ],
   "source": [
    "disMax = df.distance_from_station.max()\n",
    "disMin = df.distance_from_station.min()\n",
    "print('Max distance:', disMax,' Min distance:', disMin)"
   ]
  },
  {
   "cell_type": "markdown",
   "metadata": {},
   "source": [
    "None of the hubs are more than 29 miles away from the bus station, but none are less than  26 miles away."
   ]
  },
  {
   "cell_type": "markdown",
   "metadata": {},
   "source": [
    "I'm  also  interested in the distance of the hubs from each other."
   ]
  },
  {
   "cell_type": "code",
   "execution_count": 43,
   "metadata": {},
   "outputs": [
    {
     "data": {
      "text/plain": [
       "<matplotlib.collections.PathCollection at 0x1acbf7a32e8>"
      ]
     },
     "execution_count": 43,
     "metadata": {},
     "output_type": "execute_result"
    },
    {
     "data": {
      "image/png": "[encoded data removed]",
      "text/plain": [
       "<Figure size 432x288 with 1 Axes>"
      ]
     },
     "metadata": {
      "needs_background": "light"
     },
     "output_type": "display_data"
    }
   ],
   "source": [
    "# I want to make a plot somewhat representative of the different hub locations\n",
    "plt.scatter(df.xcoordinate, df.ycoordinate)"
   ]
  },
  {
   "cell_type": "markdown",
   "metadata": {},
   "source": [
    "This plot shows the 19 hubs in a more geographical way. There even seems to be sub-clusters - one sort of sparse in the upper right of the graph, with two more consolidates ones at the bottom  left. "
   ]
  },
  {
   "cell_type": "markdown",
   "metadata": {},
   "source": [
    "The majority of the hubs are those in the upper right cluster, these would also be the closest ones to the station."
   ]
  },
  {
   "cell_type": "code",
   "execution_count": 45,
   "metadata": {},
   "outputs": [
    {
     "data": {
      "text/plain": [
       "3027"
      ]
     },
     "execution_count": 45,
     "metadata": {},
     "output_type": "execute_result"
    }
   ],
   "source": [
    "ix = distance_from_station.idxmin()\n",
    "ix"
   ]
  },
  {
   "cell_type": "code",
   "execution_count": 47,
   "metadata": {},
   "outputs": [
    {
     "data": {
      "text/plain": [
       "scooter_id               3027.000000\n",
       "xcoordinate                 1.188913\n",
       "ycoordinate                 1.351323\n",
       "power_level                 2.000000\n",
       "distance_from_station      26.757000\n",
       "Name: 3027, dtype: float64"
      ]
     },
     "execution_count": 47,
     "metadata": {},
     "output_type": "execute_result"
    }
   ],
   "source": [
    "df.iloc[ix, :]"
   ]
  },
  {
   "cell_type": "markdown",
   "metadata": {},
   "source": [
    "So, the closest scooter to the station is # 3027, which we can see is in the upper right cluster. "
   ]
  },
  {
   "cell_type": "markdown",
   "metadata": {},
   "source": [
    "I propose a charging strategy in which the bus leaves the station and charges the scooters at each hub, driving to each of them in a loop. Beginning with the closest hub, the bus will remain there for 2.5 hours (the average charging time needed for a given scooter) to charge the scooters, then move on to the next station in the loop. This way, although not all scooters will be fully charged after every bus stop, they will have a decent battery life left and there will be a regular and predictable schedule for charging. This is assuming that one hour of charge time equates to one increase in power level. This is also assuming the bus is able to hold all of the scooters at a hub at one time. "
   ]
  },
  {
   "cell_type": "code",
   "execution_count": 55,
   "metadata": {},
   "outputs": [],
   "source": [
    "# Here's an example loop schedule:\n",
    "from tensorflow.keras.preprocessing import image\n",
    "image = image.load_img('Capture.PNG', target_size = (400,400))"
   ]
  },
  {
   "cell_type": "code",
   "execution_count": 56,
   "metadata": {},
   "outputs": [
    {
     "data": {
      "image/png": "[encoded data removed]",
      "text/plain": [
       "<PIL.Image.Image image mode=RGB size=400x400 at 0x1ACC56242E8>"
      ]
     },
     "execution_count": 56,
     "metadata": {},
     "output_type": "execute_result"
    }
   ],
   "source": [
    "image"
   ]
  },
  {
   "cell_type": "code",
   "execution_count": null,
   "metadata": {},
   "outputs": [],
   "source": []
  }
 ],
 "metadata": {
  "kernelspec": {
   "display_name": "Python 3",
   "language": "python",
   "name": "python3"
  },
  "language_info": {
   "codemirror_mode": {
    "name": "ipython",
    "version": 3
   },
   "file_extension": ".py",
   "mimetype": "text/x-python",
   "name": "python",
   "nbconvert_exporter": "python",
   "pygments_lexer": "ipython3",
   "version": "3.7.3"
  }
 },
 "nbformat": 4,
 "nbformat_minor": 2
}
